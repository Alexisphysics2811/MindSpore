{
 "cells": [
  {
   "cell_type": "code",
   "id": "initial_id",
   "metadata": {
    "collapsed": true,
    "ExecuteTime": {
     "end_time": "2024-09-14T18:06:53.945360Z",
     "start_time": "2024-09-14T18:06:52.970108Z"
    }
   },
   "source": [
    "import mindspore\n",
    "from mindspore import nn\n",
    "from mindspore.dataset import vision, transforms\n",
    "from mindspore.dataset import MnistDataset"
   ],
   "outputs": [],
   "execution_count": 1
  },
  {
   "metadata": {
    "ExecuteTime": {
     "end_time": "2024-09-14T18:07:04.083626Z",
     "start_time": "2024-09-14T18:06:53.954813Z"
    }
   },
   "cell_type": "code",
   "source": [
    "# Download data from open datasets\\n\",\n",
    "from download import download\n",
    "\n",
    "url = \"https://mindspore-website.obs.cn-north-4.myhuaweicloud.com/\" \\\n",
    "      \"notebook/datasets/MNIST_Data.zip\"\n",
    "path = download(url, \"./\", kind=\"zip\", replace=True)"
   ],
   "id": "8fc2235e4c9fda41",
   "outputs": [
    {
     "name": "stdout",
     "output_type": "stream",
     "text": [
      "Downloading data from https://mindspore-website.obs.cn-north-4.myhuaweicloud.com/notebook/datasets/MNIST_Data.zip (10.3 MB)\n",
      "\n",
      "file_sizes: 100%|██████████████████████████| 10.8M/10.8M [00:05<00:00, 1.80MB/s]\n",
      "Extracting zip file...\n",
      "Successfully downloaded / unzipped to ./\n"
     ]
    }
   ],
   "execution_count": 2
  },
  {
   "metadata": {
    "ExecuteTime": {
     "end_time": "2024-09-14T18:07:04.175068Z",
     "start_time": "2024-09-14T18:07:04.172043Z"
    }
   },
   "cell_type": "code",
   "source": [
    "train_dataset = MnistDataset('MNIST_Data/train')\n",
    "test_dataset = MnistDataset('MNIST_Data/test')"
   ],
   "id": "daf1e17a631f3d7d",
   "outputs": [],
   "execution_count": 3
  },
  {
   "metadata": {
    "ExecuteTime": {
     "end_time": "2024-09-14T18:07:04.224246Z",
     "start_time": "2024-09-14T18:07:04.219017Z"
    }
   },
   "cell_type": "code",
   "source": [
    "def datapipe(dataset, batch_size):\n",
    "    image_transforms = [\n",
    "        vision.Rescale(1.0 / 255.0, 0),\n",
    "        vision.Normalize(mean=(0.1307,), std=(0.3081,)),\n",
    "        vision.HWC2CHW()\n",
    "    ]\n",
    "\n",
    "    label_transform = transforms.TypeCast(mindspore.int32)\n",
    "\n",
    "    dataset = dataset.map(image_transforms, 'image')\n",
    "    dataset = dataset.map(label_transform, 'label')\n",
    "    dataset = dataset.batch(batch_size)\n",
    "    return dataset"
   ],
   "id": "d64e4b1155c83b8a",
   "outputs": [],
   "execution_count": 4
  },
  {
   "metadata": {
    "ExecuteTime": {
     "end_time": "2024-09-14T18:07:04.274904Z",
     "start_time": "2024-09-14T18:07:04.269421Z"
    }
   },
   "cell_type": "code",
   "source": [
    "train_dataset = datapipe(train_dataset, 64)\n",
    "test_dataset = datapipe(test_dataset, 64)"
   ],
   "id": "62e3596cbc5f5e3b",
   "outputs": [],
   "execution_count": 5
  },
  {
   "metadata": {
    "ExecuteTime": {
     "end_time": "2024-09-14T18:07:04.372099Z",
     "start_time": "2024-09-14T18:07:04.322758Z"
    }
   },
   "cell_type": "code",
   "source": [
    "for image, label in test_dataset.create_tuple_iterator():\n",
    "    print(f\"Shape of image [N, C, H, W]: {image.shape} {image.dtype}\")\n",
    "    print(f\"Shape of label: {label.shape} {label.dtype}\")\n",
    "    break"
   ],
   "id": "d830ab9a06c671d1",
   "outputs": [
    {
     "name": "stdout",
     "output_type": "stream",
     "text": [
      "Shape of image [N, C, H, W]: (64, 1, 28, 28) Float32\n",
      "Shape of label: (64,) Int32\n"
     ]
    }
   ],
   "execution_count": 6
  },
  {
   "metadata": {
    "ExecuteTime": {
     "end_time": "2024-09-14T18:07:04.411237Z",
     "start_time": "2024-09-14T18:07:04.391851Z"
    }
   },
   "cell_type": "code",
   "source": [
    "# Define model\n",
    "class Network(nn.Cell):\n",
    "    def __init__(self):\n",
    "        super().__init__()\n",
    "        self.flatten = nn.Flatten()\n",
    "        self.dense_relu_sequential = nn.SequentialCell(\n",
    "            nn.Dense(28*28, 512),\n",
    "            nn.ReLU(),\n",
    "            nn.Dense(512, 512),\n",
    "            nn.ReLU(),\n",
    "            nn.Dense(512, 10)\n",
    "        )\n",
    "\n",
    "    def construct(self, x):\n",
    "        x = self.flatten(x)\n",
    "        logits = self.dense_relu_sequential(x)\n",
    "        return logits\n",
    "\n",
    "model = Network()\n",
    "print(model)"
   ],
   "id": "c229d523306c48cd",
   "outputs": [
    {
     "name": "stdout",
     "output_type": "stream",
     "text": [
      "Network<\n",
      "  (flatten): Flatten<>\n",
      "  (dense_relu_sequential): SequentialCell<\n",
      "    (0): Dense<input_channels=784, output_channels=512, has_bias=True>\n",
      "    (1): ReLU<>\n",
      "    (2): Dense<input_channels=512, output_channels=512, has_bias=True>\n",
      "    (3): ReLU<>\n",
      "    (4): Dense<input_channels=512, output_channels=10, has_bias=True>\n",
      "    >\n",
      "  >\n"
     ]
    }
   ],
   "execution_count": 7
  },
  {
   "metadata": {
    "ExecuteTime": {
     "end_time": "2024-09-14T18:07:04.457020Z",
     "start_time": "2024-09-14T18:07:04.436308Z"
    }
   },
   "cell_type": "code",
   "source": [
    "# Instantiate loss function and optimizer\n",
    "loss_fn = nn.CrossEntropyLoss()\n",
    "optimizer = nn.SGD(model.trainable_params(), 1e-2)\n",
    "\n",
    "# 1. Define forward function\n",
    "def forward_fn(data, label):\n",
    "    logits = model(data)\n",
    "    loss = loss_fn(logits, label)\n",
    "    return loss, logits\n",
    "\n",
    "# 2. Get gradient function\n",
    "grad_fn = mindspore.value_and_grad(forward_fn, None, optimizer.parameters, has_aux=True)\n",
    "\n",
    "# 3. Define function of one-step training\n",
    "def train_step(data, label):\n",
    "    (loss, _), grads = grad_fn(data, label)\n",
    "    optimizer(grads)\n",
    "    return loss\n",
    "\n",
    "def train(model, dataset):\n",
    "    size = dataset.get_dataset_size()\n",
    "    model.set_train()\n",
    "    for batch, (data, label) in enumerate(dataset.create_tuple_iterator()):\n",
    "        loss = train_step(data, label)\n",
    "\n",
    "        if batch % 100 == 0:\n",
    "            loss, current = loss.asnumpy(), batch\n",
    "            print(f\"loss: {loss:>7f}  [{current:>3d}/{size:>3d}]\")"
   ],
   "id": "e6fd86a45848df5a",
   "outputs": [],
   "execution_count": 8
  },
  {
   "metadata": {
    "ExecuteTime": {
     "end_time": "2024-09-14T18:07:04.494577Z",
     "start_time": "2024-09-14T18:07:04.489249Z"
    }
   },
   "cell_type": "code",
   "source": [
    "def test(model, dataset, loss_fn):\n",
    "    num_batches = dataset.get_dataset_size()\n",
    "    model.set_train(False)\n",
    "    total, test_loss, correct = 0, 0, 0\n",
    "    for data, label in dataset.create_tuple_iterator():\n",
    "        pred = model(data)\n",
    "        total += len(data)\n",
    "        test_loss += loss_fn(pred, label).asnumpy()\n",
    "        correct += (pred.argmax(1) == label).asnumpy().sum()\n",
    "    test_loss /= num_batches\n",
    "    correct /= total\n",
    "    print(f\"Test: \\n Accuracy: {(100*correct):>0.1f}%, Avg loss: {test_loss:>8f} \\n\")"
   ],
   "id": "a3bfc299958493bb",
   "outputs": [],
   "execution_count": 9
  },
  {
   "metadata": {
    "ExecuteTime": {
     "end_time": "2024-09-14T18:07:43.544731Z",
     "start_time": "2024-09-14T18:07:04.546475Z"
    }
   },
   "cell_type": "code",
   "source": [
    "epochs = 3\n",
    "for t in range(epochs):\n",
    "    print(f\"Epoch {t+1}\\n-------------------------------\")\n",
    "    train(model, train_dataset)\n",
    "    test(model, test_dataset, loss_fn)\n",
    "print(\"Done!\")"
   ],
   "id": "3781d3b77928e157",
   "outputs": [
    {
     "name": "stdout",
     "output_type": "stream",
     "text": [
      "Epoch 1\n",
      "-------------------------------\n",
      "loss: 2.305128  [  0/938]\n",
      "loss: 1.690910  [100/938]\n",
      "loss: 0.890283  [200/938]\n",
      "loss: 0.798647  [300/938]\n",
      "loss: 0.499859  [400/938]\n",
      "loss: 0.354736  [500/938]\n",
      "loss: 0.454645  [600/938]\n",
      "loss: 0.439562  [700/938]\n",
      "loss: 0.476855  [800/938]\n",
      "loss: 0.334139  [900/938]\n",
      "Test: \n",
      " Accuracy: 90.9%, Avg loss: 0.317241 \n",
      "\n",
      "Epoch 2\n",
      "-------------------------------\n",
      "loss: 0.350833  [  0/938]\n",
      "loss: 0.386589  [100/938]\n",
      "loss: 0.225645  [200/938]\n",
      "loss: 0.167954  [300/938]\n",
      "loss: 0.189190  [400/938]\n",
      "loss: 0.465862  [500/938]\n",
      "loss: 0.306636  [600/938]\n",
      "loss: 0.178058  [700/938]\n",
      "loss: 0.425846  [800/938]\n",
      "loss: 0.210532  [900/938]\n",
      "Test: \n",
      " Accuracy: 92.7%, Avg loss: 0.249029 \n",
      "\n",
      "Epoch 3\n",
      "-------------------------------\n",
      "loss: 0.219393  [  0/938]\n",
      "loss: 0.244678  [100/938]\n",
      "loss: 0.275595  [200/938]\n",
      "loss: 0.223674  [300/938]\n",
      "loss: 0.197927  [400/938]\n",
      "loss: 0.089983  [500/938]\n",
      "loss: 0.208701  [600/938]\n",
      "loss: 0.196456  [700/938]\n",
      "loss: 0.161432  [800/938]\n",
      "loss: 0.221744  [900/938]\n",
      "Test: \n",
      " Accuracy: 93.8%, Avg loss: 0.211026 \n",
      "\n",
      "Done!\n"
     ]
    }
   ],
   "execution_count": 10
  },
  {
   "metadata": {
    "ExecuteTime": {
     "end_time": "2024-09-14T18:07:43.573425Z",
     "start_time": "2024-09-14T18:07:43.558715Z"
    }
   },
   "cell_type": "code",
   "source": [
    "# Save checkpoint\n",
    "mindspore.save_checkpoint(model, \"model.ckpt\")\n",
    "print(\"Saved Model to model.ckpt\")"
   ],
   "id": "f48a04ac31f86df2",
   "outputs": [
    {
     "name": "stdout",
     "output_type": "stream",
     "text": [
      "Saved Model to model.ckpt\n"
     ]
    }
   ],
   "execution_count": 11
  },
  {
   "metadata": {
    "ExecuteTime": {
     "end_time": "2024-09-14T18:07:43.704667Z",
     "start_time": "2024-09-14T18:07:43.672361Z"
    }
   },
   "cell_type": "code",
   "source": [
    "# Instantiate a random initialized model\n",
    "model = Network()\n",
    "# Load checkpoint and load parameter to model\n",
    "param_dict = mindspore.load_checkpoint(\"model.ckpt\")\n",
    "param_not_load, _ = mindspore.load_param_into_net(model, param_dict)\n",
    "print(param_not_load)"
   ],
   "id": "e58bd32c553edb24",
   "outputs": [
    {
     "name": "stdout",
     "output_type": "stream",
     "text": [
      "[]\n"
     ]
    }
   ],
   "execution_count": 12
  },
  {
   "metadata": {
    "ExecuteTime": {
     "end_time": "2024-09-14T18:07:43.787728Z",
     "start_time": "2024-09-14T18:07:43.739354Z"
    }
   },
   "cell_type": "code",
   "source": [
    "model.set_train(False)\n",
    "for data, label in test_dataset:\n",
    "    pred = model(data)\n",
    "    predicted = pred.argmax(1)\n",
    "    print(f'Predicted: \"{predicted[:10]}\", Actual: \"{label[:10]}\"')\n",
    "    break"
   ],
   "id": "1be82f7f28f01efa",
   "outputs": [
    {
     "name": "stdout",
     "output_type": "stream",
     "text": [
      "Predicted: \"[0 0 8 7 0 1 6 7 5 8]\", Actual: \"[0 0 2 7 0 1 6 7 5 8]\"\n"
     ]
    }
   ],
   "execution_count": 13
  }
 ],
 "metadata": {
  "kernelspec": {
   "display_name": "Python 3",
   "language": "python",
   "name": "python3"
  },
  "language_info": {
   "codemirror_mode": {
    "name": "ipython",
    "version": 2
   },
   "file_extension": ".py",
   "mimetype": "text/x-python",
   "name": "python",
   "nbconvert_exporter": "python",
   "pygments_lexer": "ipython2",
   "version": "2.7.6"
  }
 },
 "nbformat": 4,
 "nbformat_minor": 5
}
