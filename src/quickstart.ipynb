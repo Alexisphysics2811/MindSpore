{
 "cells": [
  {
   "cell_type": "code",
   "id": "initial_id",
   "metadata": {
    "collapsed": true,
    "ExecuteTime": {
     "end_time": "2024-09-14T18:14:29.462250Z",
     "start_time": "2024-09-14T18:14:29.457730Z"
    }
   },
   "source": [
    "import mindspore\n",
    "from mindspore import nn\n",
    "from mindspore.dataset import vision, transforms\n",
    "from mindspore.dataset import MnistDataset"
   ],
   "outputs": [],
   "execution_count": 14
  },
  {
   "metadata": {
    "ExecuteTime": {
     "end_time": "2024-09-14T18:14:40.861775Z",
     "start_time": "2024-09-14T18:14:29.512209Z"
    }
   },
   "cell_type": "code",
   "source": [
    "# Download data from open datasets\\n\",\n",
    "from download import download\n",
    "\n",
    "url = \"https://mindspore-website.obs.cn-north-4.myhuaweicloud.com/\" \\\n",
    "      \"notebook/datasets/MNIST_Data.zip\"\n",
    "path = download(url, \"./\", kind=\"zip\", replace=True)"
   ],
   "id": "8fc2235e4c9fda41",
   "outputs": [
    {
     "name": "stdout",
     "output_type": "stream",
     "text": [
      "Downloading data from https://mindspore-website.obs.cn-north-4.myhuaweicloud.com/notebook/datasets/MNIST_Data.zip (10.3 MB)\n",
      "\n",
      "file_sizes: 100%|██████████████████████████| 10.8M/10.8M [00:07<00:00, 1.48MB/s]\n",
      "Extracting zip file...\n",
      "Successfully downloaded / unzipped to ./\n"
     ]
    }
   ],
   "execution_count": 15
  },
  {
   "metadata": {
    "ExecuteTime": {
     "end_time": "2024-09-14T18:14:40.888510Z",
     "start_time": "2024-09-14T18:14:40.884589Z"
    }
   },
   "cell_type": "code",
   "source": [
    "train_dataset = MnistDataset('src/MNIST_Data/train')\n",
    "test_dataset = MnistDataset('src/MNIST_Data/test')"
   ],
   "id": "daf1e17a631f3d7d",
   "outputs": [],
   "execution_count": 16
  },
  {
   "metadata": {
    "ExecuteTime": {
     "end_time": "2024-09-14T18:14:40.945160Z",
     "start_time": "2024-09-14T18:14:40.941215Z"
    }
   },
   "cell_type": "code",
   "source": [
    "def datapipe(dataset, batch_size):\n",
    "    image_transforms = [\n",
    "        vision.Rescale(1.0 / 255.0, 0),\n",
    "        vision.Normalize(mean=(0.1307,), std=(0.3081,)),\n",
    "        vision.HWC2CHW()\n",
    "    ]\n",
    "\n",
    "    label_transform = transforms.TypeCast(mindspore.int32)\n",
    "\n",
    "    dataset = dataset.map(image_transforms, 'image')\n",
    "    dataset = dataset.map(label_transform, 'label')\n",
    "    dataset = dataset.batch(batch_size)\n",
    "    return dataset"
   ],
   "id": "d64e4b1155c83b8a",
   "outputs": [],
   "execution_count": 17
  },
  {
   "metadata": {
    "ExecuteTime": {
     "end_time": "2024-09-14T18:14:40.997480Z",
     "start_time": "2024-09-14T18:14:40.993360Z"
    }
   },
   "cell_type": "code",
   "source": [
    "train_dataset = datapipe(train_dataset, 64)\n",
    "test_dataset = datapipe(test_dataset, 64)"
   ],
   "id": "62e3596cbc5f5e3b",
   "outputs": [],
   "execution_count": 18
  },
  {
   "metadata": {
    "ExecuteTime": {
     "end_time": "2024-09-14T18:14:41.094248Z",
     "start_time": "2024-09-14T18:14:41.048610Z"
    }
   },
   "cell_type": "code",
   "source": [
    "for image, label in test_dataset.create_tuple_iterator():\n",
    "    print(f\"Shape of image [N, C, H, W]: {image.shape} {image.dtype}\")\n",
    "    print(f\"Shape of label: {label.shape} {label.dtype}\")\n",
    "    break"
   ],
   "id": "d830ab9a06c671d1",
   "outputs": [
    {
     "name": "stdout",
     "output_type": "stream",
     "text": [
      "Shape of image [N, C, H, W]: (64, 1, 28, 28) Float32\n",
      "Shape of label: (64,) Int32\n"
     ]
    }
   ],
   "execution_count": 19
  },
  {
   "metadata": {
    "ExecuteTime": {
     "end_time": "2024-09-14T18:14:41.123593Z",
     "start_time": "2024-09-14T18:14:41.107122Z"
    }
   },
   "cell_type": "code",
   "source": [
    "# Define model\n",
    "class Network(nn.Cell):\n",
    "    def __init__(self):\n",
    "        super().__init__()\n",
    "        self.flatten = nn.Flatten()\n",
    "        self.dense_relu_sequential = nn.SequentialCell(\n",
    "            nn.Dense(28*28, 512),\n",
    "            nn.ReLU(),\n",
    "            nn.Dense(512, 512),\n",
    "            nn.ReLU(),\n",
    "            nn.Dense(512, 10)\n",
    "        )\n",
    "\n",
    "    def construct(self, x):\n",
    "        x = self.flatten(x)\n",
    "        logits = self.dense_relu_sequential(x)\n",
    "        return logits\n",
    "\n",
    "model = Network()\n",
    "print(model)"
   ],
   "id": "c229d523306c48cd",
   "outputs": [
    {
     "name": "stdout",
     "output_type": "stream",
     "text": [
      "Network<\n",
      "  (flatten): Flatten<>\n",
      "  (dense_relu_sequential): SequentialCell<\n",
      "    (0): Dense<input_channels=784, output_channels=512, has_bias=True>\n",
      "    (1): ReLU<>\n",
      "    (2): Dense<input_channels=512, output_channels=512, has_bias=True>\n",
      "    (3): ReLU<>\n",
      "    (4): Dense<input_channels=512, output_channels=10, has_bias=True>\n",
      "    >\n",
      "  >\n"
     ]
    }
   ],
   "execution_count": 20
  },
  {
   "metadata": {
    "ExecuteTime": {
     "end_time": "2024-09-14T18:14:41.181332Z",
     "start_time": "2024-09-14T18:14:41.163366Z"
    }
   },
   "cell_type": "code",
   "source": [
    "# Instantiate loss function and optimizer\n",
    "loss_fn = nn.CrossEntropyLoss()\n",
    "optimizer = nn.SGD(model.trainable_params(), 1e-2)\n",
    "\n",
    "# 1. Define forward function\n",
    "def forward_fn(data, label):\n",
    "    logits = model(data)\n",
    "    loss = loss_fn(logits, label)\n",
    "    return loss, logits\n",
    "\n",
    "# 2. Get gradient function\n",
    "grad_fn = mindspore.value_and_grad(forward_fn, None, optimizer.parameters, has_aux=True)\n",
    "\n",
    "# 3. Define function of one-step training\n",
    "def train_step(data, label):\n",
    "    (loss, _), grads = grad_fn(data, label)\n",
    "    optimizer(grads)\n",
    "    return loss\n",
    "\n",
    "def train(model, dataset):\n",
    "    size = dataset.get_dataset_size()\n",
    "    model.set_train()\n",
    "    for batch, (data, label) in enumerate(dataset.create_tuple_iterator()):\n",
    "        loss = train_step(data, label)\n",
    "\n",
    "        if batch % 100 == 0:\n",
    "            loss, current = loss.asnumpy(), batch\n",
    "            print(f\"loss: {loss:>7f}  [{current:>3d}/{size:>3d}]\")"
   ],
   "id": "e6fd86a45848df5a",
   "outputs": [],
   "execution_count": 21
  },
  {
   "metadata": {
    "ExecuteTime": {
     "end_time": "2024-09-14T18:14:41.232139Z",
     "start_time": "2024-09-14T18:14:41.225367Z"
    }
   },
   "cell_type": "code",
   "source": [
    "def test(model, dataset, loss_fn):\n",
    "    num_batches = dataset.get_dataset_size()\n",
    "    model.set_train(False)\n",
    "    total, test_loss, correct = 0, 0, 0\n",
    "    for data, label in dataset.create_tuple_iterator():\n",
    "        pred = model(data)\n",
    "        total += len(data)\n",
    "        test_loss += loss_fn(pred, label).asnumpy()\n",
    "        correct += (pred.argmax(1) == label).asnumpy().sum()\n",
    "    test_loss /= num_batches\n",
    "    correct /= total\n",
    "    print(f\"Test: \\n Accuracy: {(100*correct):>0.1f}%, Avg loss: {test_loss:>8f} \\n\")"
   ],
   "id": "a3bfc299958493bb",
   "outputs": [],
   "execution_count": 22
  },
  {
   "metadata": {
    "ExecuteTime": {
     "end_time": "2024-09-14T18:15:18.576890Z",
     "start_time": "2024-09-14T18:14:41.279639Z"
    }
   },
   "cell_type": "code",
   "source": [
    "epochs = 3\n",
    "for t in range(epochs):\n",
    "    print(f\"Epoch {t+1}\\n-------------------------------\")\n",
    "    train(model, train_dataset)\n",
    "    test(model, test_dataset, loss_fn)\n",
    "print(\"Done!\")"
   ],
   "id": "3781d3b77928e157",
   "outputs": [
    {
     "name": "stdout",
     "output_type": "stream",
     "text": [
      "Epoch 1\n",
      "-------------------------------\n",
      "loss: 2.321639  [  0/938]\n",
      "loss: 1.656598  [100/938]\n",
      "loss: 0.917754  [200/938]\n",
      "loss: 0.741057  [300/938]\n",
      "loss: 0.376324  [400/938]\n",
      "loss: 0.369185  [500/938]\n",
      "loss: 0.526977  [600/938]\n",
      "loss: 0.606563  [700/938]\n",
      "loss: 0.341108  [800/938]\n",
      "loss: 0.214717  [900/938]\n",
      "Test: \n",
      " Accuracy: 90.8%, Avg loss: 0.319320 \n",
      "\n",
      "Epoch 2\n",
      "-------------------------------\n",
      "loss: 0.329645  [  0/938]\n",
      "loss: 0.316748  [100/938]\n",
      "loss: 0.236806  [200/938]\n",
      "loss: 0.298717  [300/938]\n",
      "loss: 0.358515  [400/938]\n",
      "loss: 0.244790  [500/938]\n",
      "loss: 0.167555  [600/938]\n",
      "loss: 0.104564  [700/938]\n",
      "loss: 0.196476  [800/938]\n",
      "loss: 0.303391  [900/938]\n",
      "Test: \n",
      " Accuracy: 92.8%, Avg loss: 0.251845 \n",
      "\n",
      "Epoch 3\n",
      "-------------------------------\n",
      "loss: 0.340709  [  0/938]\n",
      "loss: 0.360284  [100/938]\n",
      "loss: 0.248724  [200/938]\n",
      "loss: 0.163046  [300/938]\n",
      "loss: 0.342282  [400/938]\n",
      "loss: 0.259692  [500/938]\n",
      "loss: 0.228475  [600/938]\n",
      "loss: 0.327253  [700/938]\n",
      "loss: 0.176561  [800/938]\n",
      "loss: 0.228220  [900/938]\n",
      "Test: \n",
      " Accuracy: 93.8%, Avg loss: 0.216965 \n",
      "\n",
      "Done!\n"
     ]
    }
   ],
   "execution_count": 23
  },
  {
   "metadata": {
    "ExecuteTime": {
     "end_time": "2024-09-14T18:15:18.606039Z",
     "start_time": "2024-09-14T18:15:18.591957Z"
    }
   },
   "cell_type": "code",
   "source": [
    "# Save checkpoint\n",
    "mindspore.save_checkpoint(model, \"model.ckpt\")\n",
    "print(\"Saved Model to model.ckpt\")"
   ],
   "id": "f48a04ac31f86df2",
   "outputs": [
    {
     "name": "stdout",
     "output_type": "stream",
     "text": [
      "Saved Model to model.ckpt\n"
     ]
    }
   ],
   "execution_count": 24
  },
  {
   "metadata": {
    "ExecuteTime": {
     "end_time": "2024-09-14T18:15:18.739569Z",
     "start_time": "2024-09-14T18:15:18.710150Z"
    }
   },
   "cell_type": "code",
   "source": [
    "# Instantiate a random initialized model\n",
    "model = Network()\n",
    "# Load checkpoint and load parameter to model\n",
    "param_dict = mindspore.load_checkpoint(\"model.ckpt\")\n",
    "param_not_load, _ = mindspore.load_param_into_net(model, param_dict)\n",
    "print(param_not_load)"
   ],
   "id": "e58bd32c553edb24",
   "outputs": [
    {
     "name": "stdout",
     "output_type": "stream",
     "text": [
      "[]\n"
     ]
    }
   ],
   "execution_count": 25
  },
  {
   "metadata": {
    "ExecuteTime": {
     "end_time": "2024-09-14T18:15:18.883912Z",
     "start_time": "2024-09-14T18:15:18.828836Z"
    }
   },
   "cell_type": "code",
   "source": [
    "model.set_train(False)\n",
    "for data, label in test_dataset:\n",
    "    pred = model(data)\n",
    "    predicted = pred.argmax(1)\n",
    "    print(f'Predicted: \"{predicted[:10]}\", Actual: \"{label[:10]}\"')\n",
    "    break"
   ],
   "id": "1be82f7f28f01efa",
   "outputs": [
    {
     "name": "stdout",
     "output_type": "stream",
     "text": [
      "Predicted: \"[9 0 8 7 2 0 7 8 1 7]\", Actual: \"[9 0 8 7 2 0 7 8 1 7]\"\n"
     ]
    }
   ],
   "execution_count": 26
  }
 ],
 "metadata": {
  "kernelspec": {
   "display_name": "Python 3",
   "language": "python",
   "name": "python3"
  },
  "language_info": {
   "codemirror_mode": {
    "name": "ipython",
    "version": 2
   },
   "file_extension": ".py",
   "mimetype": "text/x-python",
   "name": "python",
   "nbconvert_exporter": "python",
   "pygments_lexer": "ipython2",
   "version": "2.7.6"
  }
 },
 "nbformat": 4,
 "nbformat_minor": 5
}
